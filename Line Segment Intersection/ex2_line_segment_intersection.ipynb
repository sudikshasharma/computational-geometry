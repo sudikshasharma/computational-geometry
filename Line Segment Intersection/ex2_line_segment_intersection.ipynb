{
 "cells": [
  {
   "cell_type": "markdown",
   "metadata": {},
   "source": [
    "# Assignment A2\n",
    "\n",
    "**Computational Geometry**\n",
    "\n",
    "Group comgeo10 \n",
    "\n",
    "1. Sudiksha Sharma\n",
    "2. Shankar Anbalagan"
   ]
  },
  {
   "cell_type": "code",
   "execution_count": 111,
   "metadata": {},
   "outputs": [],
   "source": [
    "# Libraries\n",
    "import numpy as np\n",
    "\n",
    "# Your libraries here\n",
    "from plyfile import PlyData"
   ]
  },
  {
   "cell_type": "markdown",
   "metadata": {},
   "source": [
    "## Load PLY file"
   ]
  },
  {
   "cell_type": "code",
   "execution_count": 113,
   "metadata": {},
   "outputs": [],
   "source": [
    "# Your code here\n",
    "\n",
    "filename = \"datasets/skyscrapers_1.ply\"\n",
    "\n",
    "plyData = PlyData.read(filename)\n",
    "\n",
    "vertexData = plyData[\"vertex\"].data"
   ]
  },
  {
   "cell_type": "markdown",
   "metadata": {},
   "source": [
    "## Compute the skylines (Line Sweep Algorithm)"
   ]
  },
  {
   "cell_type": "code",
   "execution_count": 114,
   "metadata": {},
   "outputs": [],
   "source": [
    "# Your code here1\n",
    "import matplotlib.pyplot as plt\n",
    "\n",
    "\n",
    "# Sort vertex data in order of increasing x-axis \n",
    "vertexData.sort()\n",
    "\n",
    "# Declaring priority queue (Containing points currently active under sweep line)\n",
    "queue = []\n",
    "\n",
    "# Declaring queue containing line segments\n",
    "lines = []\n",
    "\n",
    "# List of all points (ignoring the base points, i.e. points at 0 y-coordinate)\n",
    "points = []\n",
    "for x in vertexData:\n",
    "    if x[1] != 0:\n",
    "        points.append(x)\n",
    "\n",
    "# Check if current point is some end point of a line segment\n",
    "def check_if_end_point(list,lines,ycoord):\n",
    "    for element in list:\n",
    "        if element[1] == ycoord:\n",
    "            list.remove(element)\n",
    "            if not list or list[len(list)-1][1] < element[1]:\n",
    "                lines.append(((x[0],x[1]),element))\n",
    "            return True\n",
    "    return False\n",
    "\n",
    "# Insert point in sorted manner\n",
    "def add_in_sorted_list(list,el):\n",
    "    if list[len(list)-1][1] < el[1]:\n",
    "        list.append(el)\n",
    "    else:\n",
    "        list.insert(0,el)\n",
    "\n",
    "        \n",
    "        \n",
    "##### The Algorithm\n",
    "\n",
    "# Iterate over the points\n",
    "for x in points:\n",
    "    \n",
    "    # If priority queue is empty, insert the point in it and add line segment to the lines list\n",
    "    if not queue:\n",
    "        queue.append(x)\n",
    "        lines.append(((x[0],x[1]),(x[0],0)))\n",
    "    else:\n",
    "        # Check if new point is end point of some line segment\n",
    "        if check_if_end_point(queue,lines,x[1]):\n",
    "            if not queue:\n",
    "                # If priority queue is  not empty\n",
    "                lines.append(((x[0],x[1]),(x[0],0)))\n",
    "            else:\n",
    "                # If new point is above than the greatest(y-coordinate) point in queue\n",
    "                if x[1] > queue[len(queue)-1][1]:\n",
    "                    lines.append(((x[0],x[1]),(x[0],queue[len(queue)-1][1])))\n",
    "                    # Updating the previous point as per  the intersection detected\n",
    "                    queue[len(queue)-1][0] = x[0]\n",
    "        else:\n",
    "            if x[1] > queue[len(queue)-1][1]:\n",
    "                lines.append(((x[0],x[1]),(x[0],queue[len(queue)-1][1])))\n",
    "                lines.append((queue[len(queue)-1],(x[0],queue[len(queue)-1][1])))\n",
    "            add_in_sorted_list(queue,x)"
   ]
  },
  {
   "cell_type": "markdown",
   "metadata": {},
   "source": [
    "## Visualize the skylines"
   ]
  },
  {
   "cell_type": "code",
   "execution_count": 115,
   "metadata": {},
   "outputs": [
    {
     "data": {
      "image/png": "[encoded data removed]",
      "text/plain": [
       "<Figure size 640x480 with 1 Axes>"
      ]
     },
     "metadata": {},
     "output_type": "display_data"
    }
   ],
   "source": [
    "# Your code here\n",
    "import matplotlib.pyplot as plt\n",
    "\n",
    "for line in lines:\n",
    "    x_values = [line[0][0], line[1][0]]\n",
    "    y_values = [line[0][1], line[1][1]]\n",
    "    plt.plot(x_values, y_values, 'bo', linestyle=\"--\")\n",
    "plt.show()\n"
   ]
  },
  {
   "cell_type": "markdown",
   "metadata": {},
   "source": []
  },
  {
   "cell_type": "code",
   "execution_count": null,
   "metadata": {},
   "outputs": [],
   "source": []
  },
  {
   "cell_type": "code",
   "execution_count": null,
   "metadata": {},
   "outputs": [],
   "source": []
  }
 ],
 "metadata": {
  "kernelspec": {
   "display_name": "Python 3 (ipykernel)",
   "language": "python",
   "name": "python3"
  },
  "language_info": {
   "codemirror_mode": {
    "name": "ipython",
    "version": 3
   },
   "file_extension": ".py",
   "mimetype": "text/x-python",
   "name": "python",
   "nbconvert_exporter": "python",
   "pygments_lexer": "ipython3",
   "version": "3.9.13"
  }
 },
 "nbformat": 4,
 "nbformat_minor": 2
}
