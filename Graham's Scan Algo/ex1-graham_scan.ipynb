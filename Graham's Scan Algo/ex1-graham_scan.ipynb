{
 "cells": [
  {
   "cell_type": "code",
   "execution_count": 359,
   "id": "e829772f",
   "metadata": {},
   "outputs": [],
   "source": [
    "from plyfile import PlyData, PlyElement\n",
    "import matplotlib.pyplot as plt\n",
    "import numpy as np\n",
    "from functools import cmp_to_key"
   ]
  },
  {
   "cell_type": "code",
   "execution_count": 360,
   "id": "1bec969f",
   "metadata": {},
   "outputs": [],
   "source": [
    "p0 = {'x':0, 'y':0}"
   ]
  },
  {
   "cell_type": "code",
   "execution_count": 361,
   "id": "903ebbb3",
   "metadata": {},
   "outputs": [],
   "source": [
    "def plot_ply(points, edges):\n",
    "    \n",
    "    edges.append(edges[0])\n",
    "    #print(edges)\n",
    "    \n",
    "    x = [ sub['x'] for sub in points ]\n",
    "    y = [ sub['y'] for sub in points ]\n",
    "    \n",
    "    edge_x = [ sub['x'] for sub in edges ]\n",
    "    edge_y = [ sub['y'] for sub in edges ]\n",
    "    \n",
    "    fig = plt.figure()\n",
    "    ax = fig.add_subplot()\n",
    "    ax.scatter(x, y, c='r', marker='o')\n",
    "    ax.plot(edge_x,edge_y)\n",
    "    ax.set_xlabel('X Label')\n",
    "    ax.set_ylabel('Y Label')\n",
    "    plt.show()"
   ]
  },
  {
   "cell_type": "code",
   "execution_count": 362,
   "id": "ce92e6c7",
   "metadata": {},
   "outputs": [],
   "source": [
    "def distance(p1, p2):\n",
    "    return ((p1['x'] - p2['x']) * (p1['x'] - p2['x']) + (p1['y'] - p2['y']) * (p1['y'] - p2['y']))"
   ]
  },
  {
   "cell_type": "code",
   "execution_count": 363,
   "id": "55237b6d",
   "metadata": {},
   "outputs": [],
   "source": [
    "def orientation(p, q, r):\n",
    "    val = ((q['y'] - p['y']) * (r['x'] - q['x']) - (q['x'] - p['x']) * (r['y'] - q['y']))\n",
    "    if val == 0:\n",
    "        return 0  # collinear\n",
    "    elif val > 0:\n",
    "        return 1  # right\n",
    "    else:\n",
    "        return 2  # left\n",
    "\n",
    "def comparator(p1, p2):\n",
    "    o = orientation(p0, p1, p2)\n",
    "    if o == 0:\n",
    "        if distance(p0, p2) >= distance(p0, p1):\n",
    "            return -1\n",
    "        else:\n",
    "            return 1\n",
    "    else:\n",
    "        if o == 2:\n",
    "            return -1\n",
    "        else:\n",
    "            return 1"
   ]
  },
  {
   "cell_type": "code",
   "execution_count": 364,
   "id": "683bdb5c",
   "metadata": {},
   "outputs": [],
   "source": [
    "def graham_scan(points):\n",
    "    n = len(points)\n",
    "    #print(n)\n",
    "    ymin = points[0]['y']\n",
    "    index_min = 0\n",
    "    \n",
    "    for i, point in enumerate(points):\n",
    "        if point['y'] < ymin:\n",
    "            ymin = point['y']\n",
    "            index_min = i\n",
    "        if point['y'] == ymin:\n",
    "            if point['x'] < points[index_min]['x']:\n",
    "                index_min = i\n",
    "    \n",
    "    #print(points[index_min])\n",
    "    p0 = points[index_min]\n",
    "    points[0], points[index_min] = points[index_min], points[0]\n",
    "    \n",
    "    '''Sort points by angle'''\n",
    "    sorted_points = sorted(points[1:], key=cmp_to_key(comparator))\n",
    "    #print(sorted_points)\n",
    "    \n",
    "    '''If 2 points make the same angle with the minimum point, keep only the point that has maximum distance with\n",
    "    minimum point. Discard the other point'''\n",
    "    edges = []\n",
    "    for i in range(0, len(sorted_points)):\n",
    "        if (i < len(sorted_points) - 1) and (orientation(p0, sorted_points[i], sorted_points[i+1])==0):\n",
    "            if distance(p0, sorted_points[i+1]) > distance(p0, sorted_points[i]):\n",
    "                sorted_points.pop(i)\n",
    "            else:\n",
    "                sorted_points.pop(i+1)\n",
    "                \n",
    "                \n",
    "    #print(sorted_points)\n",
    "    edges.append(p0)\n",
    "    edges.append(sorted_points[0])\n",
    "    edges.append(sorted_points[1])\n",
    "    \n",
    "    '''Check for left and right turns. Discard point if it makes non left turn'''\n",
    "    for i in range(2, len(sorted_points)):\n",
    "        #print(edges[-2])\n",
    "        #print(edges[-1])\n",
    "        #print(sorted_points[i])\n",
    "        #print(edges)\n",
    "        if (orientation(edges[-2], edges[-1], sorted_points[i]) != 2):\n",
    "            #print('popping')\n",
    "            edges.pop()\n",
    "        edges.append(sorted_points[i])\n",
    "        #print(edges)\n",
    "        \n",
    "    #print(edges)\n",
    "    return edges\n",
    "    "
   ]
  },
  {
   "cell_type": "code",
   "execution_count": 365,
   "id": "b59b59c7",
   "metadata": {},
   "outputs": [],
   "source": [
    "def save_ply(edges):\n",
    "    face_arr = []\n",
    "    for point in edges:\n",
    "        face_arr.append(point['index'])\n",
    "\n",
    "    #print(face_arr)\n",
    "    \n",
    "    face = np.array([([*face_arr],)],\n",
    "                   dtype=[('vertex_indices', 'f4', (len(face_arr),)),])\n",
    "    \n",
    "    face_el = PlyElement.describe(face, 'face')\n",
    "    vertex_el = plydata['vertex']\n",
    "\n",
    "    PlyData([vertex_el, face_el],text=True).write('output.ply')  "
   ]
  },
  {
   "cell_type": "code",
   "execution_count": 366,
   "id": "f40db740",
   "metadata": {},
   "outputs": [
    {
     "data": {
      "image/png": "[encoded data removed]",
      "text/plain": [
       "<Figure size 432x288 with 1 Axes>"
      ]
     },
     "metadata": {
      "needs_background": "light"
     },
     "output_type": "display_data"
    }
   ],
   "source": [
    "plydata = PlyData.read('points_3.ply')\n",
    "#print(plydata['vertex'].count)\n",
    "x = plydata['vertex']['x']\n",
    "y = plydata['vertex']['y']\n",
    "\n",
    "points = []\n",
    "i = 0\n",
    "for point in plydata['vertex']:\n",
    "    points.append({'index': i, 'x':point[0], 'y':point[1]})\n",
    "    i=i+1\n",
    "\n",
    "edges = graham_scan(points)\n",
    "save_ply(edges)\n",
    "\n",
    "plot_ply(points, edges)"
   ]
  },
  {
   "cell_type": "code",
   "execution_count": null,
   "id": "39f58e94",
   "metadata": {},
   "outputs": [],
   "source": []
  }
 ],
 "metadata": {
  "kernelspec": {
   "display_name": "Python 3 (ipykernel)",
   "language": "python",
   "name": "python3"
  },
  "language_info": {
   "codemirror_mode": {
    "name": "ipython",
    "version": 3
   },
   "file_extension": ".py",
   "mimetype": "text/x-python",
   "name": "python",
   "nbconvert_exporter": "python",
   "pygments_lexer": "ipython3",
   "version": "3.8.10"
  }
 },
 "nbformat": 4,
 "nbformat_minor": 5
}
